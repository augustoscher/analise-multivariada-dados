{
  "nbformat": 4,
  "nbformat_minor": 0,
  "metadata": {
    "colab": {
      "name": "coxinha-rank.ipynb",
      "provenance": []
    },
    "kernelspec": {
      "name": "python3",
      "display_name": "Python 3"
    }
  },
  "cells": [
    {
      "cell_type": "code",
      "metadata": {
        "id": "Eht0jQgrMQlp",
        "colab_type": "code",
        "colab": {}
      },
      "source": [
        "import numpy as np\n",
        "import pandas as pd\n",
        "import matplotlib.pyplot as plt"
      ],
      "execution_count": 2,
      "outputs": []
    },
    {
      "cell_type": "code",
      "metadata": {
        "id": "rDRwiWGWMd-A",
        "colab_type": "code",
        "colab": {}
      },
      "source": [
        "df = pd.read_excel(\"./coxinha.xlsx\")\n",
        "df.to_csv(\"./coxinha.csv\", sep=\",\")"
      ],
      "execution_count": 8,
      "outputs": []
    },
    {
      "cell_type": "code",
      "metadata": {
        "id": "C01zd-LLM5S5",
        "colab_type": "code",
        "colab": {
          "base_uri": "https://localhost:8080/",
          "height": 34
        },
        "outputId": "b981a548-8f09-4a40-8228-31814c0313f4"
      },
      "source": [
        "df_coxinha = pd.read_csv('coxinha.csv', sep=',')\n",
        "print(df_coxinha.shape)"
      ],
      "execution_count": 15,
      "outputs": [
        {
          "output_type": "stream",
          "text": [
            "(8, 6)\n"
          ],
          "name": "stdout"
        }
      ]
    },
    {
      "cell_type": "code",
      "metadata": {
        "id": "gz23u84jON1D",
        "colab_type": "code",
        "colab": {
          "base_uri": "https://localhost:8080/",
          "height": 204
        },
        "outputId": "f02881b2-3ec0-4c70-8739-b00b272d70f9"
      },
      "source": [
        "df_coxinha.head()"
      ],
      "execution_count": 16,
      "outputs": [
        {
          "output_type": "execute_result",
          "data": {
            "text/html": [
              "<div>\n",
              "<style scoped>\n",
              "    .dataframe tbody tr th:only-of-type {\n",
              "        vertical-align: middle;\n",
              "    }\n",
              "\n",
              "    .dataframe tbody tr th {\n",
              "        vertical-align: top;\n",
              "    }\n",
              "\n",
              "    .dataframe thead th {\n",
              "        text-align: right;\n",
              "    }\n",
              "</style>\n",
              "<table border=\"1\" class=\"dataframe\">\n",
              "  <thead>\n",
              "    <tr style=\"text-align: right;\">\n",
              "      <th></th>\n",
              "      <th>id</th>\n",
              "      <th>Marca</th>\n",
              "      <th>Sabor</th>\n",
              "      <th>Aroma</th>\n",
              "      <th>Massa</th>\n",
              "      <th>Recheio</th>\n",
              "    </tr>\n",
              "  </thead>\n",
              "  <tbody>\n",
              "    <tr>\n",
              "      <th>0</th>\n",
              "      <td>0</td>\n",
              "      <td>M1</td>\n",
              "      <td>2.75</td>\n",
              "      <td>4.03</td>\n",
              "      <td>2.80</td>\n",
              "      <td>2.62</td>\n",
              "    </tr>\n",
              "    <tr>\n",
              "      <th>1</th>\n",
              "      <td>1</td>\n",
              "      <td>M2</td>\n",
              "      <td>3.90</td>\n",
              "      <td>4.12</td>\n",
              "      <td>3.40</td>\n",
              "      <td>3.52</td>\n",
              "    </tr>\n",
              "    <tr>\n",
              "      <th>2</th>\n",
              "      <td>2</td>\n",
              "      <td>M3</td>\n",
              "      <td>3.12</td>\n",
              "      <td>3.97</td>\n",
              "      <td>3.62</td>\n",
              "      <td>3.05</td>\n",
              "    </tr>\n",
              "    <tr>\n",
              "      <th>3</th>\n",
              "      <td>3</td>\n",
              "      <td>M4</td>\n",
              "      <td>4.58</td>\n",
              "      <td>4.86</td>\n",
              "      <td>4.34</td>\n",
              "      <td>4.82</td>\n",
              "    </tr>\n",
              "    <tr>\n",
              "      <th>4</th>\n",
              "      <td>4</td>\n",
              "      <td>M5</td>\n",
              "      <td>3.97</td>\n",
              "      <td>4.34</td>\n",
              "      <td>4.28</td>\n",
              "      <td>4.98</td>\n",
              "    </tr>\n",
              "  </tbody>\n",
              "</table>\n",
              "</div>"
            ],
            "text/plain": [
              "   id Marca  Sabor  Aroma  Massa  Recheio\n",
              "0   0    M1   2.75   4.03   2.80     2.62\n",
              "1   1    M2   3.90   4.12   3.40     3.52\n",
              "2   2    M3   3.12   3.97   3.62     3.05\n",
              "3   3    M4   4.58   4.86   4.34     4.82\n",
              "4   4    M5   3.97   4.34   4.28     4.98"
            ]
          },
          "metadata": {
            "tags": []
          },
          "execution_count": 16
        }
      ]
    },
    {
      "cell_type": "code",
      "metadata": {
        "id": "ROyPH6DeOcV2",
        "colab_type": "code",
        "colab": {
          "base_uri": "https://localhost:8080/",
          "height": 297
        },
        "outputId": "3c75e4ed-1c83-4b3b-f105-72289a668212"
      },
      "source": [
        "df_coxinha.describe()"
      ],
      "execution_count": 17,
      "outputs": [
        {
          "output_type": "execute_result",
          "data": {
            "text/html": [
              "<div>\n",
              "<style scoped>\n",
              "    .dataframe tbody tr th:only-of-type {\n",
              "        vertical-align: middle;\n",
              "    }\n",
              "\n",
              "    .dataframe tbody tr th {\n",
              "        vertical-align: top;\n",
              "    }\n",
              "\n",
              "    .dataframe thead th {\n",
              "        text-align: right;\n",
              "    }\n",
              "</style>\n",
              "<table border=\"1\" class=\"dataframe\">\n",
              "  <thead>\n",
              "    <tr style=\"text-align: right;\">\n",
              "      <th></th>\n",
              "      <th>id</th>\n",
              "      <th>Sabor</th>\n",
              "      <th>Aroma</th>\n",
              "      <th>Massa</th>\n",
              "      <th>Recheio</th>\n",
              "    </tr>\n",
              "  </thead>\n",
              "  <tbody>\n",
              "    <tr>\n",
              "      <th>count</th>\n",
              "      <td>8.00000</td>\n",
              "      <td>8.000000</td>\n",
              "      <td>8.000000</td>\n",
              "      <td>8.000000</td>\n",
              "      <td>8.000000</td>\n",
              "    </tr>\n",
              "    <tr>\n",
              "      <th>mean</th>\n",
              "      <td>3.50000</td>\n",
              "      <td>3.667500</td>\n",
              "      <td>4.258750</td>\n",
              "      <td>3.685000</td>\n",
              "      <td>3.786250</td>\n",
              "    </tr>\n",
              "    <tr>\n",
              "      <th>std</th>\n",
              "      <td>2.44949</td>\n",
              "      <td>0.637893</td>\n",
              "      <td>0.332327</td>\n",
              "      <td>0.651306</td>\n",
              "      <td>0.954238</td>\n",
              "    </tr>\n",
              "    <tr>\n",
              "      <th>min</th>\n",
              "      <td>0.00000</td>\n",
              "      <td>2.750000</td>\n",
              "      <td>3.970000</td>\n",
              "      <td>2.800000</td>\n",
              "      <td>2.620000</td>\n",
              "    </tr>\n",
              "    <tr>\n",
              "      <th>25%</th>\n",
              "      <td>1.75000</td>\n",
              "      <td>3.092500</td>\n",
              "      <td>4.017500</td>\n",
              "      <td>3.275000</td>\n",
              "      <td>2.992500</td>\n",
              "    </tr>\n",
              "    <tr>\n",
              "      <th>50%</th>\n",
              "      <td>3.50000</td>\n",
              "      <td>3.860000</td>\n",
              "      <td>4.120000</td>\n",
              "      <td>3.620000</td>\n",
              "      <td>3.615000</td>\n",
              "    </tr>\n",
              "    <tr>\n",
              "      <th>75%</th>\n",
              "      <td>5.25000</td>\n",
              "      <td>4.025000</td>\n",
              "      <td>4.417500</td>\n",
              "      <td>4.295000</td>\n",
              "      <td>4.782500</td>\n",
              "    </tr>\n",
              "    <tr>\n",
              "      <th>max</th>\n",
              "      <td>7.00000</td>\n",
              "      <td>4.580000</td>\n",
              "      <td>4.860000</td>\n",
              "      <td>4.520000</td>\n",
              "      <td>4.980000</td>\n",
              "    </tr>\n",
              "  </tbody>\n",
              "</table>\n",
              "</div>"
            ],
            "text/plain": [
              "            id     Sabor     Aroma     Massa   Recheio\n",
              "count  8.00000  8.000000  8.000000  8.000000  8.000000\n",
              "mean   3.50000  3.667500  4.258750  3.685000  3.786250\n",
              "std    2.44949  0.637893  0.332327  0.651306  0.954238\n",
              "min    0.00000  2.750000  3.970000  2.800000  2.620000\n",
              "25%    1.75000  3.092500  4.017500  3.275000  2.992500\n",
              "50%    3.50000  3.860000  4.120000  3.620000  3.615000\n",
              "75%    5.25000  4.025000  4.417500  4.295000  4.782500\n",
              "max    7.00000  4.580000  4.860000  4.520000  4.980000"
            ]
          },
          "metadata": {
            "tags": []
          },
          "execution_count": 17
        }
      ]
    },
    {
      "cell_type": "code",
      "metadata": {
        "id": "gAANAK-OOexG",
        "colab_type": "code",
        "colab": {
          "base_uri": "https://localhost:8080/",
          "height": 295
        },
        "outputId": "9a066e95-f900-4fd0-d9c9-4a85b28858dc"
      },
      "source": [
        "\n",
        "df_coxinha.Sabor.value_counts().plot.bar()"
      ],
      "execution_count": 18,
      "outputs": [
        {
          "output_type": "execute_result",
          "data": {
            "text/plain": [
              "<matplotlib.axes._subplots.AxesSubplot at 0x7fab496d39e8>"
            ]
          },
          "metadata": {
            "tags": []
          },
          "execution_count": 18
        },
        {
          "output_type": "display_data",
          "data": {
            "image/png": "[encoded data removed]",
            "text/plain": [
              "<Figure size 432x288 with 1 Axes>"
            ]
          },
          "metadata": {
            "tags": [],
            "needs_background": "light"
          }
        }
      ]
    },
    {
      "cell_type": "code",
      "metadata": {
        "id": "LCXtbjJZPlTN",
        "colab_type": "code",
        "colab": {}
      },
      "source": [
        ""
      ],
      "execution_count": null,
      "outputs": []
    }
  ]
}